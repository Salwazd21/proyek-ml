{
  "cells": [
    {
      "cell_type": "markdown",
      "metadata": {
        "id": "fKADPWcFKlj3"
      },
      "source": [
        "# **1. Import Library**"
      ]
    },
    {
      "cell_type": "markdown",
      "metadata": {
        "id": "LgA3ERnVn84N"
      },
      "source": [
        "Pada tahap ini, Anda perlu mengimpor beberapa pustaka (library) Python yang dibutuhkan untuk analisis data dan pembangunan model machine learning."
      ]
    },
    {
      "cell_type": "code",
      "execution_count": 1,
      "metadata": {
        "id": "BlmvjLY9M4Yj"
      },
      "outputs": [],
      "source": [
        "import pandas as pd\n",
        "import numpy as np\n",
        "import matplotlib.pyplot as plt\n",
        "import seaborn as sns\n",
        "\n",
        "from sklearn.preprocessing import StandardScaler\n",
        "from sklearn.decomposition import PCA\n",
        "from sklearn.cluster import KMeans\n",
        "from sklearn.model_selection import train_test_split, GridSearchCV, RandomizedSearchCV\n",
        "from sklearn.ensemble import RandomForestClassifier\n",
        "from sklearn.metrics import accuracy_score, f1_score, classification_report, confusion_matrix\n",
        "\n"
      ]
    },
    {
      "cell_type": "markdown",
      "metadata": {
        "id": "f3YIEnAFKrKL"
      },
      "source": [
        "# **2. Memuat Dataset dari Hasil Clustering**"
      ]
    },
    {
      "cell_type": "markdown",
      "metadata": {
        "id": "Ey3ItwTen_7E"
      },
      "source": [
        "Memuat dataset hasil clustering dari file CSV ke dalam variabel DataFrame."
      ]
    },
    {
      "cell_type": "code",
      "execution_count": 2,
      "metadata": {
        "id": "GHCGNTyrM5fS"
      },
      "outputs": [
        {
          "data": {
            "text/html": [
              "<div>\n",
              "<style scoped>\n",
              "    .dataframe tbody tr th:only-of-type {\n",
              "        vertical-align: middle;\n",
              "    }\n",
              "\n",
              "    .dataframe tbody tr th {\n",
              "        vertical-align: top;\n",
              "    }\n",
              "\n",
              "    .dataframe thead th {\n",
              "        text-align: right;\n",
              "    }\n",
              "</style>\n",
              "<table border=\"1\" class=\"dataframe\">\n",
              "  <thead>\n",
              "    <tr style=\"text-align: right;\">\n",
              "      <th></th>\n",
              "      <th>Gender</th>\n",
              "      <th>Age</th>\n",
              "      <th>Sleep duration</th>\n",
              "      <th>Sleep quality</th>\n",
              "      <th>Stress level</th>\n",
              "      <th>Blood pressure</th>\n",
              "      <th>Heart rate</th>\n",
              "      <th>Daily steps</th>\n",
              "      <th>Physical activity</th>\n",
              "      <th>Height</th>\n",
              "      <th>...</th>\n",
              "      <th>Medical issue</th>\n",
              "      <th>Ongoing medication</th>\n",
              "      <th>Smart device before bed</th>\n",
              "      <th>Average screen time</th>\n",
              "      <th>Blue-light filter</th>\n",
              "      <th>Discomfort Eye-strain</th>\n",
              "      <th>Redness in eye</th>\n",
              "      <th>Itchiness/Irritation in eye</th>\n",
              "      <th>Dry Eye Disease</th>\n",
              "      <th>Cluster</th>\n",
              "    </tr>\n",
              "  </thead>\n",
              "  <tbody>\n",
              "    <tr>\n",
              "      <th>0</th>\n",
              "      <td>F</td>\n",
              "      <td>24</td>\n",
              "      <td>9.5</td>\n",
              "      <td>2</td>\n",
              "      <td>1</td>\n",
              "      <td>137/89</td>\n",
              "      <td>67</td>\n",
              "      <td>3000</td>\n",
              "      <td>31</td>\n",
              "      <td>161</td>\n",
              "      <td>...</td>\n",
              "      <td>Y</td>\n",
              "      <td>Y</td>\n",
              "      <td>N</td>\n",
              "      <td>8.7</td>\n",
              "      <td>N</td>\n",
              "      <td>Y</td>\n",
              "      <td>Y</td>\n",
              "      <td>N</td>\n",
              "      <td>Y</td>\n",
              "      <td>0</td>\n",
              "    </tr>\n",
              "    <tr>\n",
              "      <th>1</th>\n",
              "      <td>M</td>\n",
              "      <td>39</td>\n",
              "      <td>9.6</td>\n",
              "      <td>2</td>\n",
              "      <td>3</td>\n",
              "      <td>108/64</td>\n",
              "      <td>60</td>\n",
              "      <td>12000</td>\n",
              "      <td>74</td>\n",
              "      <td>164</td>\n",
              "      <td>...</td>\n",
              "      <td>Y</td>\n",
              "      <td>Y</td>\n",
              "      <td>N</td>\n",
              "      <td>9.6</td>\n",
              "      <td>Y</td>\n",
              "      <td>N</td>\n",
              "      <td>N</td>\n",
              "      <td>Y</td>\n",
              "      <td>Y</td>\n",
              "      <td>1</td>\n",
              "    </tr>\n",
              "    <tr>\n",
              "      <th>2</th>\n",
              "      <td>F</td>\n",
              "      <td>45</td>\n",
              "      <td>5.4</td>\n",
              "      <td>1</td>\n",
              "      <td>5</td>\n",
              "      <td>134/81</td>\n",
              "      <td>95</td>\n",
              "      <td>12000</td>\n",
              "      <td>93</td>\n",
              "      <td>179</td>\n",
              "      <td>...</td>\n",
              "      <td>N</td>\n",
              "      <td>N</td>\n",
              "      <td>Y</td>\n",
              "      <td>4.0</td>\n",
              "      <td>N</td>\n",
              "      <td>Y</td>\n",
              "      <td>N</td>\n",
              "      <td>N</td>\n",
              "      <td>N</td>\n",
              "      <td>1</td>\n",
              "    </tr>\n",
              "    <tr>\n",
              "      <th>3</th>\n",
              "      <td>F</td>\n",
              "      <td>45</td>\n",
              "      <td>5.4</td>\n",
              "      <td>4</td>\n",
              "      <td>5</td>\n",
              "      <td>110/90</td>\n",
              "      <td>78</td>\n",
              "      <td>19000</td>\n",
              "      <td>32</td>\n",
              "      <td>160</td>\n",
              "      <td>...</td>\n",
              "      <td>Y</td>\n",
              "      <td>N</td>\n",
              "      <td>N</td>\n",
              "      <td>7.6</td>\n",
              "      <td>N</td>\n",
              "      <td>Y</td>\n",
              "      <td>N</td>\n",
              "      <td>Y</td>\n",
              "      <td>N</td>\n",
              "      <td>1</td>\n",
              "    </tr>\n",
              "    <tr>\n",
              "      <th>4</th>\n",
              "      <td>F</td>\n",
              "      <td>42</td>\n",
              "      <td>5.7</td>\n",
              "      <td>3</td>\n",
              "      <td>2</td>\n",
              "      <td>99/67</td>\n",
              "      <td>72</td>\n",
              "      <td>4000</td>\n",
              "      <td>173</td>\n",
              "      <td>179</td>\n",
              "      <td>...</td>\n",
              "      <td>Y</td>\n",
              "      <td>N</td>\n",
              "      <td>N</td>\n",
              "      <td>3.5</td>\n",
              "      <td>N</td>\n",
              "      <td>Y</td>\n",
              "      <td>Y</td>\n",
              "      <td>N</td>\n",
              "      <td>Y</td>\n",
              "      <td>2</td>\n",
              "    </tr>\n",
              "  </tbody>\n",
              "</table>\n",
              "<p>5 rows × 27 columns</p>\n",
              "</div>"
            ],
            "text/plain": [
              "  Gender  Age  Sleep duration  Sleep quality  Stress level Blood pressure  \\\n",
              "0      F   24             9.5              2             1         137/89   \n",
              "1      M   39             9.6              2             3         108/64   \n",
              "2      F   45             5.4              1             5         134/81   \n",
              "3      F   45             5.4              4             5         110/90   \n",
              "4      F   42             5.7              3             2          99/67   \n",
              "\n",
              "   Heart rate  Daily steps  Physical activity  Height  ...  Medical issue  \\\n",
              "0          67         3000                 31     161  ...              Y   \n",
              "1          60        12000                 74     164  ...              Y   \n",
              "2          95        12000                 93     179  ...              N   \n",
              "3          78        19000                 32     160  ...              Y   \n",
              "4          72         4000                173     179  ...              Y   \n",
              "\n",
              "  Ongoing medication Smart device before bed Average screen time  \\\n",
              "0                  Y                       N                 8.7   \n",
              "1                  Y                       N                 9.6   \n",
              "2                  N                       Y                 4.0   \n",
              "3                  N                       N                 7.6   \n",
              "4                  N                       N                 3.5   \n",
              "\n",
              "  Blue-light filter Discomfort Eye-strain Redness in eye  \\\n",
              "0                 N                     Y              Y   \n",
              "1                 Y                     N              N   \n",
              "2                 N                     Y              N   \n",
              "3                 N                     Y              N   \n",
              "4                 N                     Y              Y   \n",
              "\n",
              "  Itchiness/Irritation in eye Dry Eye Disease Cluster  \n",
              "0                           N               Y       0  \n",
              "1                           Y               Y       1  \n",
              "2                           N               N       1  \n",
              "3                           Y               N       1  \n",
              "4                           N               Y       2  \n",
              "\n",
              "[5 rows x 27 columns]"
            ]
          },
          "execution_count": 2,
          "metadata": {},
          "output_type": "execute_result"
        }
      ],
      "source": [
        "df = pd.read_csv('Data_clustering.csv')\n",
        "df.head()"
      ]
    },
    {
      "cell_type": "markdown",
      "metadata": {
        "id": "KkPem5eWL2UP"
      },
      "source": [
        "# **3. Data Splitting**"
      ]
    },
    {
      "cell_type": "markdown",
      "metadata": {
        "id": "YYj1rl_JNI9Y"
      },
      "source": [
        "Tahap Data Splitting bertujuan untuk memisahkan dataset menjadi dua bagian: data latih (training set) dan data uji (test set)."
      ]
    },
    {
      "cell_type": "code",
      "execution_count": 3,
      "metadata": {
        "id": "OubAW-7ONKVj"
      },
      "outputs": [
        {
          "name": "stdout",
          "output_type": "stream",
          "text": [
            "Ukuran Data Latih (X_train): (16000, 1620)\n",
            "Ukuran Data Uji (X_test): (4000, 1620)\n",
            "Ukuran Label Latih (y_train): (16000,)\n",
            "Ukuran Label Uji (y_test): (4000,)\n"
          ]
        }
      ],
      "source": [
        "X = df.drop(columns=['Dry Eye Disease'])  \n",
        "y = df['Dry Eye Disease']   \n",
        "X_encoded = pd.get_dummies(X)\n",
        "X_train, X_test, y_train, y_test = train_test_split(X_encoded, y, test_size=0.2, random_state=42, stratify=y)\n",
        "\n",
        "print(\"Ukuran Data Latih (X_train):\", X_train.shape)\n",
        "print(\"Ukuran Data Uji (X_test):\", X_test.shape)\n",
        "print(\"Ukuran Label Latih (y_train):\", y_train.shape)\n",
        "print(\"Ukuran Label Uji (y_test):\", y_test.shape)\n"
      ]
    },
    {
      "cell_type": "markdown",
      "metadata": {
        "id": "IVPbB03CMhTT"
      },
      "source": [
        "# **4. Membangun Model Klasifikasi**\n"
      ]
    },
    {
      "cell_type": "markdown",
      "metadata": {
        "id": "Ned1pL9zMmBK"
      },
      "source": [
        "## **a. Membangun Model Klasifikasi**"
      ]
    },
    {
      "cell_type": "markdown",
      "metadata": {
        "id": "WAWzPOE4Nkti"
      },
      "source": [
        "Setelah memilih algoritma klasifikasi yang sesuai, langkah selanjutnya adalah melatih model menggunakan data latih.\n",
        "\n",
        "Berikut adalah rekomendasi tahapannya.\n",
        "1. Pilih algoritma klasifikasi yang sesuai, seperti Logistic Regression, Decision Tree, Random Forest, atau K-Nearest Neighbors (KNN).\n",
        "2. Latih model menggunakan data latih."
      ]
    },
    {
      "cell_type": "code",
      "execution_count": 4,
      "metadata": {
        "id": "4JYxBe87NLDk"
      },
      "outputs": [
        {
          "name": "stdout",
          "output_type": "stream",
          "text": [
            "Akurasi pada data latih: 100.0 %\n"
          ]
        }
      ],
      "source": [
        "model_rf = RandomForestClassifier(random_state=42)\n",
        "model_rf.fit(X_train, y_train)\n",
        "train_accuracy = model_rf.score(X_train, y_train)\n",
        "print(\"Akurasi pada data latih:\", round(train_accuracy * 100, 2), \"%\")"
      ]
    },
    {
      "cell_type": "markdown",
      "metadata": {
        "id": "seYoHNY3XU1y"
      },
      "source": [
        "Sebelum melatih model, data yang berisi tulisan seperti 'Male' dan 'Female' pada kolom Gender harus diubah menjadi angka karena model hanya bisa membaca angka. Setelah itu, data dibagi rata menjadi dua bagian: satu untuk melatih model (data train) dan satu lagi untuk menguji hasilnya (data test). Supaya target prediksinya pas, label (y_train) juga disesuaikan menjadi bentuk satu baris data. Selanjutnya, dibuat model Random Forest, yaitu model yang bekerja dengan membuat banyak pohon keputusan untuk menghasilkan prediksi yang lebih kuat. Model ini dilatih menggunakan data train, dan kalau berhasil, berarti model sudah siap untuk dipakai memprediksi data baru."
      ]
    },
    {
      "cell_type": "markdown",
      "metadata": {
        "id": "ergzChZFEL-O"
      },
      "source": [
        "## **b. Evaluasi Model Klasifikasi**"
      ]
    },
    {
      "cell_type": "markdown",
      "metadata": {
        "id": "zOm68u-7NpLT"
      },
      "source": [
        "Berikut adalah **rekomendasi** tahapannya.\n",
        "1. Lakukan prediksi menggunakan data uji.\n",
        "2. Hitung metrik evaluasi seperti Accuracy dan F1-Score (Opsional: Precision dan Recall).\n",
        "3. Buat confusion matrix untuk melihat detail prediksi benar dan salah."
      ]
    },
    {
      "cell_type": "code",
      "execution_count": 5,
      "metadata": {
        "id": "tMq4QAssNLip"
      },
      "outputs": [
        {
          "name": "stdout",
          "output_type": "stream",
          "text": [
            "Akurasi: 0.70\n",
            "F1-Score: 0.65\n",
            "Classification Report:\n",
            "               precision    recall  f1-score   support\n",
            "\n",
            "           N       0.69      0.25      0.37      1393\n",
            "           Y       0.70      0.94      0.80      2607\n",
            "\n",
            "    accuracy                           0.70      4000\n",
            "   macro avg       0.69      0.59      0.58      4000\n",
            "weighted avg       0.70      0.70      0.65      4000\n",
            "\n",
            "Confusion Matrix:\n",
            " [[ 347 1046]\n",
            " [ 158 2449]]\n"
          ]
        }
      ],
      "source": [
        "\n",
        "# 1. Lakukan prediksi dengan data uji\n",
        "y_pred = model_rf.predict(X_test)\n",
        "\n",
        "# 2. Hitung metrik evaluasi\n",
        "accuracy = accuracy_score(y_test, y_pred)\n",
        "f1 = f1_score(y_test, y_pred, average='weighted')  # pakai 'weighted' karena multiclass\n",
        "report = classification_report(y_test, y_pred)\n",
        "\n",
        "# 3. Buat confusion matrix\n",
        "cm = confusion_matrix(y_test, y_pred)\n",
        "\n",
        "# Cetak hasil evaluasi\n",
        "print(f'Akurasi: {accuracy:.2f}')\n",
        "print(f'F1-Score: {f1:.2f}')\n",
        "print('Classification Report:\\n', report)\n",
        "print('Confusion Matrix:\\n', cm)\n"
      ]
    },
    {
      "cell_type": "markdown",
      "metadata": {
        "id": "H4_9OwrsXZlz"
      },
      "source": [
        "Kita lakukan prediksi hasil dari x_test lalu diukur ke akuratan model dengan accurancy dan F1-score dengan melihat hasil classification report dan membuat confusion matrix untuk mengetahui prediksi apakah bernilai bnar atau salah."
      ]
    },
    {
      "cell_type": "markdown",
      "metadata": {
        "id": "ph9yIYDXEPuB"
      },
      "source": [
        "## **c. Tuning Model Klasifikasi (Optional)**"
      ]
    },
    {
      "cell_type": "markdown",
      "metadata": {
        "id": "-Bikx3LINv5e"
      },
      "source": [
        "Gunakan GridSearchCV, RandomizedSearchCV, atau metode lainnya untuk mencari kombinasi hyperparameter terbaik"
      ]
    },
    {
      "cell_type": "code",
      "execution_count": 6,
      "metadata": {
        "id": "winbFzb8NL95"
      },
      "outputs": [
        {
          "name": "stdout",
          "output_type": "stream",
          "text": [
            "Fitting 3 folds for each of 10 candidates, totalling 30 fits\n",
            "Best Parameters: {'n_estimators': 150, 'min_samples_split': 5, 'min_samples_leaf': 1, 'max_features': 'sqrt', 'max_depth': None}\n",
            "Best Score (Cross-Validation Accuracy): 69.68 %\n"
          ]
        }
      ],
      "source": [
        "from sklearn.ensemble import RandomForestClassifier\n",
        "from sklearn.model_selection import RandomizedSearchCV\n",
        "\n",
        "# Definisikan model dasar\n",
        "rf = RandomForestClassifier(random_state=42)\n",
        "\n",
        "# Definisikan parameter grid (disederhanakan dan efisien)\n",
        "param_grid = {\n",
        "    'n_estimators': [100, 150, 200],         # Jumlah pohon\n",
        "    'max_depth': [None, 10, 20],             # Kedalaman pohon\n",
        "    'min_samples_split': [2, 5],             # Min sampel utk split node\n",
        "    'min_samples_leaf': [1, 2],              # Min sampel utk jadi daun\n",
        "    'max_features': ['sqrt', 'log2']         # Fitur yang dipakai tiap split\n",
        "}\n",
        "\n",
        "# Inisialisasi RandomizedSearchCV\n",
        "random_search = RandomizedSearchCV(\n",
        "    estimator=rf,\n",
        "    param_distributions=param_grid,\n",
        "    n_iter=10,                   # Coba 10 kombinasi acak saja (cepat)\n",
        "    cv=3,                        # 3-fold cross validation (lebih ringan)\n",
        "    scoring='accuracy',\n",
        "    n_jobs=-1,                   # Gunakan semua core CPU\n",
        "    verbose=2,\n",
        "    random_state=42\n",
        ")\n",
        "\n",
        "# Jalankan pencarian\n",
        "random_search.fit(X_train, y_train)\n",
        "\n",
        "# Hasil terbaik\n",
        "print(\"Best Parameters:\", random_search.best_params_)\n",
        "print(\"Best Score (Cross-Validation Accuracy):\", round(random_search.best_score_ * 100, 2), \"%\")\n",
        "\n",
        "# Model terbaik\n",
        "best_model = random_search.best_estimator_\n"
      ]
    },
    {
      "cell_type": "markdown",
      "metadata": {
        "id": "hE7pqlEPEYzI"
      },
      "source": [
        "## **d. Evaluasi Model Klasifikasi setelah Tuning (Optional)**"
      ]
    },
    {
      "cell_type": "markdown",
      "metadata": {
        "id": "feaPESoeN0zz"
      },
      "source": [
        "Berikut adalah rekomendasi tahapannya.\n",
        "1. Gunakan model dengan hyperparameter terbaik.\n",
        "2. Hitung ulang metrik evaluasi untuk melihat apakah ada peningkatan performa."
      ]
    },
    {
      "cell_type": "code",
      "execution_count": 10,
      "metadata": {
        "id": "HTXZRvEeNMb1"
      },
      "outputs": [
        {
          "name": "stdout",
          "output_type": "stream",
          "text": [
            "Akurasi setelah tuning: 0.70\n",
            "F1-Score setelah tuning: 0.65\n",
            "Classification Report setelah tuning:\n",
            "               precision    recall  f1-score   support\n",
            "\n",
            "           N       0.69      0.25      0.37      1393\n",
            "           Y       0.70      0.94      0.80      2607\n",
            "\n",
            "    accuracy                           0.70      4000\n",
            "   macro avg       0.70      0.60      0.59      4000\n",
            "weighted avg       0.70      0.70      0.65      4000\n",
            "\n",
            "Confusion Matrix setelah tuning:\n",
            " [[ 354 1039]\n",
            " [ 159 2448]]\n"
          ]
        },
        {
          "data": {
            "image/png": "[encoded data removed]",
            "text/plain": [
              "<Figure size 600x400 with 2 Axes>"
            ]
          },
          "metadata": {},
          "output_type": "display_data"
        }
      ],
      "source": [
        "# 1. Gunakan model terbaik dari hasil tuning\n",
        "tuned_model = best_model\n",
        "\n",
        "# 2. Lakukan prediksi pada data uji\n",
        "y_pred_tuned = tuned_model.predict(X_test)\n",
        "\n",
        "# 3. Hitung metrik evaluasi\n",
        "accuracy_tuned = accuracy_score(y_test, y_pred_tuned)\n",
        "f1_tuned = f1_score(y_test, y_pred_tuned, average='weighted')\n",
        "report_tuned = classification_report(y_test, y_pred_tuned)\n",
        "cm_tuned = confusion_matrix(y_test, y_pred_tuned)\n",
        "\n",
        "# 4. Cetak hasil evaluasi\n",
        "print(f\"Akurasi setelah tuning: {accuracy_tuned:.2f}\")\n",
        "print(f\"F1-Score setelah tuning: {f1_tuned:.2f}\")\n",
        "print('Classification Report setelah tuning:\\n', report_tuned)\n",
        "print('Confusion Matrix setelah tuning:\\n', cm_tuned)\n",
        "\n",
        "# (Opsional) Visualisasi Confusion Matrix (biar lebih informatif)\n",
        "import seaborn as sns\n",
        "import matplotlib.pyplot as plt\n",
        "\n",
        "plt.figure(figsize=(6,4))\n",
        "sns.heatmap(cm_tuned, annot=True, fmt='d', cmap='Blues')\n",
        "plt.title('Confusion Matrix setelah Tuning')\n",
        "plt.xlabel('Predicted')\n",
        "plt.ylabel('Actual')\n",
        "plt.show()"
      ]
    },
    {
      "cell_type": "markdown",
      "metadata": {
        "id": "ZRsOdm4uEgAW"
      },
      "source": [
        "## **e. Analisis Hasil Evaluasi Model Klasifikasi**"
      ]
    },
    {
      "cell_type": "markdown",
      "metadata": {
        "id": "Hm3BhSi6N4_l"
      },
      "source": [
        "Berikut adalah **rekomendasi** tahapannya.\n",
        "1. Bandingkan hasil evaluasi sebelum dan setelah tuning (jika dilakukan).\n",
        "2. Identifikasi kelemahan model, seperti:\n",
        "  - Precision atau Recall rendah untuk kelas tertentu.\n",
        "  - Apakah model mengalami overfitting atau underfitting?\n",
        "3. Berikan rekomendasi tindakan lanjutan, seperti mengumpulkan data tambahan atau mencoba algoritma lain jika hasil belum memuaskan."
      ]
    },
    {
      "cell_type": "markdown",
      "metadata": {},
      "source": [
        "**1. Perbandingan Hasil Evaluasi**\n",
        "| Metrik           | Sebelum Tuning                                  | Setelah Tuning |\n",
        "| ---------------- | ----------------------------------------------- | -------------- |\n",
        "| Akurasi          | 70.00%                                          | 70.00%         |\n",
        "| F1-Score         | 65.00%                                          | 65.00%         |\n",
        "| Macro F1-Score   | 58.00%                                          | 59.00%         |\n",
        "| Catatan Tambahan | Tidak ada peningkatan signifikan setelah tuning |                |\n",
        "\n",
        "\n",
        "**2. Identifikasi Kelemahan Model**\n",
        "- Precision / Recall rendah pada kelas N (Non-Dry Eye Disease):\n",
        "\n",
        "  - Recall untuk kelas N sangat rendah (25%), artinya banyak data N yang diprediksi salah sebagai Y.\n",
        "\n",
        "- Overfitting atau Underfitting:\n",
        "   - Tidak ada overfitting (akurasi training dan testing serupa)\n",
        "   - Indikasi underfitting pada kelas N (model kesulitan mempelajari pola kelas N)\n",
        "\n",
        "- Confusion Matrix menunjukkan:\n",
        "  - Banyak False Negative → kelas N diprediksi sebagai Y sebanyak ~1046–1039 kasus.\n",
        "\n",
        "**3. Rekomendasi Tindakan Lanjutan**\n",
        "- Kumpulkan data tambahan khusus untuk kelas N agar model lebih seimbang.\n",
        "- Coba algoritma lain seperti XGBoost atau Balanced Random Forest yang lebih tahan terhadap imbalance data.\n",
        "- Gunakan balancing technique seperti SMOTE atau undersampling pada data pelatihan.\n",
        "- Lakukan feature engineering → periksa apakah ada fitur yang bisa menambah informasi penting untuk membedakan kelas N dan Y."
      ]
    },
    {
      "cell_type": "markdown",
      "metadata": {},
      "source": [
        "Setelah dilakukan evaluasi sebelum dan sesudah tuning, terlihat bahwa performa model tidak mengalami peningkatan yang signifikan dari segi akurasi dan F1-score. Model menunjukkan performa baik untuk memprediksi kelas Y (Recall 94%), namun performa pada kelas N masih rendah.\n",
        "Diperlukan pendekatan balancing data atau model alternatif untuk meningkatkan generalisasi model pada kedua kelas secara merata."
      ]
    },
    {
      "cell_type": "markdown",
      "metadata": {},
      "source": [
        "# 5. Mengekspor Data\n",
        "Mengekspor data klasifiksi ke csv"
      ]
    },
    {
      "cell_type": "code",
      "execution_count": 11,
      "metadata": {},
      "outputs": [
        {
          "name": "stdout",
          "output_type": "stream",
          "text": [
            "Data hasil klasifikasi berhasil diekspor ke 'Data_klasifikasi.csv'\n"
          ]
        }
      ],
      "source": [
        "hasil_klasifikasi = pd.DataFrame({\n",
        "    'Actual': y_test,\n",
        "    'Predicted': y_pred\n",
        "})\n",
        "\n",
        "# Menyimpan ke file CSV\n",
        "hasil_klasifikasi.to_csv('Data_klasifikasi.csv', index=False)\n",
        "\n",
        "print(\"Data hasil klasifikasi berhasil diekspor ke 'Data_klasifikasi.csv'\")"
      ]
    }
  ],
  "metadata": {
    "colab": {
      "provenance": []
    },
    "kernelspec": {
      "display_name": "base",
      "language": "python",
      "name": "python3"
    },
    "language_info": {
      "codemirror_mode": {
        "name": "ipython",
        "version": 3
      },
      "file_extension": ".py",
      "mimetype": "text/x-python",
      "name": "python",
      "nbconvert_exporter": "python",
      "pygments_lexer": "ipython3",
      "version": "3.12.7"
    }
  },
  "nbformat": 4,
  "nbformat_minor": 0
}
